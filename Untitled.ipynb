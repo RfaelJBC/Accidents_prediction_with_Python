{
 "cells": [
  {
   "cell_type": "code",
   "execution_count": null,
   "id": "7071ae7a",
   "metadata": {},
   "outputs": [],
   "source": [
    "#módulos importantes\n",
    "from sklearn import datasets\n",
    "import pandas\n",
    "from matplotlib import pyplot as plt\n",
    "import numpy as np\n",
    "import seaborn as sns\n",
    "from sklearn.model_selection import train_test_split\n",
    "from sklearn.neighbors import KNeighborsClassifier\n",
    "from sklearn.metrics import plot_confusion_matrix\n",
    "from sklearn.metrics._plot.confusion_matrix import confusion_matrix\n",
    "from sklearn.linear_model import LogisticRegression\n",
    "from sklearn.feature_selection import RFE\n",
    "from sklearn.feature_selection import SelectKBest\n",
    "from sklearn.feature_selection import f_classif, mutual_info_classif\n",
    "from sklearn import metrics\n",
    "import plotly.express as px\n",
    "from distutils.core import setup\n",
    "\n",
    "\n",
    "tabela = pandas.read_csv(\"Crash_Data.csv\")\n",
    "tabela.head()\n",
    "\n",
    "#um resumo de algumas estatísticas\n",
    "tabela = pandas.get_dummies(tabela,columns=['Crash ID','National Remoteness Areas','SA4 Name 2016','National LGA Name 2017', \"National Road Type\"],drop_first=True)\n",
    "tabela.head()\n",
    "\n",
    "tabela\n",
    "\n",
    "\n",
    "#um resumo dos tipos dos dados\n",
    "tabela.info()\n",
    "\n",
    "\n",
    "\n",
    "#Tabela de relação das variaveis\n",
    "plt.figure()\n",
    "sns.heatmap(tabela.corr(), annot=True)\n",
    "\n",
    "fig=px.pie(tabela.groupby('Year',as_index=False)['Age Group'].count().\n",
    "           sort_values(by='Age Group',ascending=False).head(10),names='Year',\n",
    "           values='Age Group',color='Year',hole=0.7,labels={'experience_level':'Experience level ','Crash Type':'count'},\n",
    "           template='ggplot2',title='tipo de batida por ano')\n",
    "fig.show()\n",
    "\n",
    "#tabela.groupby('Year').agg(['mean', 'median'])\n",
    "\n",
    "fig=px.bar(tabela.groupby('Speed Limit',as_index=False)['Month'].mean().sort_values(by='Month',ascending=False).head(10),x='Speed Limit',y='Month')\n",
    "       \n",
    "fig.show()\n",
    "\n",
    "\n",
    "\n",
    "tabela = pandas.get_dummies(tabela,columns=['Day of week','Time of day','Crash Type', \"Dayweek\"],drop_first=True)\n",
    "\n"
   ]
  }
 ],
 "metadata": {
  "kernelspec": {
   "display_name": "Python 3 (ipykernel)",
   "language": "python",
   "name": "python3"
  },
  "language_info": {
   "codemirror_mode": {
    "name": "ipython",
    "version": 3
   },
   "file_extension": ".py",
   "mimetype": "text/x-python",
   "name": "python",
   "nbconvert_exporter": "python",
   "pygments_lexer": "ipython3",
   "version": "3.9.12"
  }
 },
 "nbformat": 4,
 "nbformat_minor": 5
}
